{
  "nbformat": 4,
  "nbformat_minor": 0,
  "metadata": {
    "colab": {
      "name": "Benford's law.ipynb",
      "provenance": [],
      "toc_visible": true
    },
    "kernelspec": {
      "name": "python3",
      "display_name": "Python 3"
    }
  },
  "cells": [
    {
      "cell_type": "code",
      "metadata": {
        "id": "pSzqKajKgSJd",
        "colab": {
          "base_uri": "https://localhost:8080/",
          "height": 639
        },
        "outputId": "eee7764c-fadd-4ac6-8805-86f0b1375fde"
      },
      "source": [
        "import seaborn as sns\n",
        "\n",
        "data = [684, 258, 462, 531, 961, 451, 691, 464, 640,341,305,450,501,507,467,712,1143,422,1973,615,136,4,582,698,257,684,289,387,833,538,479,767,1076,512,1061,655,843,436,1426,675,2214,4988,614,1111,1649,1414,272,531,481,345,850,441,984,1390]\n",
        "\n",
        "numbers = []\n",
        "\n",
        "\n",
        "for i in data:\n",
        "    txt = str(i)\n",
        "    numbers.append(txt[0])\n",
        "\n",
        "print(numbers)\n",
        "\n",
        "ones = []\n",
        "twos = []\n",
        "threes = []\n",
        "fours = []\n",
        "fives = []\n",
        "sixs = []\n",
        "sevens = []\n",
        "eights = []\n",
        "nines = []\n",
        "\n",
        "numbersInt = []\n",
        "\n",
        "for i in numbers:\n",
        "    numbersInt.append(int(i))\n",
        "\n",
        "for i in numbersInt:\n",
        "    if i == 1:\n",
        "        ones.append(i)\n",
        "    elif i == 2:\n",
        "        twos.append(i)\n",
        "    elif i == 3:\n",
        "        threes.append(i)\n",
        "    elif i == 4:\n",
        "        fours.append(i)\n",
        "    elif i == 5:\n",
        "        fives.append(i)\n",
        "    elif i == 6:\n",
        "        sixs.append(i)\n",
        "    elif i == 7:\n",
        "        sevens.append(i)\n",
        "    elif i == 8:\n",
        "        eights.append(i)\n",
        "    elif i == 9:\n",
        "        nines.append(i)\n",
        "\n",
        "print('1:',100*len(ones)/len(numbersInt),'\\n')\n",
        "print('2:',100*len(twos)/len(numbersInt),'\\n')\n",
        "print('3:',100*len(threes)/len(numbersInt),'\\n')\n",
        "print('4:',100*len(fours)/len(numbersInt),'\\n')\n",
        "print('5:',100*len(fives)/len(numbersInt),'\\n')\n",
        "print('6:',100*len(sixs)/len(numbersInt),'\\n')\n",
        "print('7:',100*len(sevens)/len(numbersInt),'\\n')\n",
        "print('8:',100*len(eights)/len(numbersInt),'\\n')\n",
        "print('9:',100*len(nines)/len(numbersInt),'\\n')\n",
        "\n",
        "import pandas as pd\n",
        "\n",
        "numbersdf = pd.DataFrame(numbers)\n",
        "numbersdf.columns = ['values']\n",
        "\n",
        "sns.countplot(x='values',data=numbersdf,palette = 'BuGn_r')\n"
      ],
      "execution_count": null,
      "outputs": [
        {
          "output_type": "stream",
          "text": [
            "['6', '2', '4', '5', '9', '4', '6', '4', '6', '3', '3', '4', '5', '5', '4', '7', '1', '4', '1', '6', '1', '4', '5', '6', '2', '6', '2', '3', '8', '5', '4', '7', '1', '5', '1', '6', '8', '4', '1', '6', '2', '4', '6', '1', '1', '1', '2', '5', '4', '3', '8', '4', '9', '1']\n",
            "1: 18.51851851851852 \n",
            "\n",
            "2: 9.25925925925926 \n",
            "\n",
            "3: 7.407407407407407 \n",
            "\n",
            "4: 22.22222222222222 \n",
            "\n",
            "5: 12.962962962962964 \n",
            "\n",
            "6: 16.666666666666668 \n",
            "\n",
            "7: 3.7037037037037037 \n",
            "\n",
            "8: 5.555555555555555 \n",
            "\n",
            "9: 3.7037037037037037 \n",
            "\n"
          ],
          "name": "stdout"
        },
        {
          "output_type": "execute_result",
          "data": {
            "text/plain": [
              "<matplotlib.axes._subplots.AxesSubplot at 0x7fb3f46c52e8>"
            ]
          },
          "metadata": {
            "tags": []
          },
          "execution_count": 24
        },
        {
          "output_type": "display_data",
          "data": {
            "image/png": "[encoded data removed]",
            "text/plain": [
              "<Figure size 432x288 with 1 Axes>"
            ]
          },
          "metadata": {
            "tags": [],
            "needs_background": "light"
          }
        }
      ]
    },
    {
      "cell_type": "markdown",
      "metadata": {
        "id": "uEQpuhBs4ZTf"
      },
      "source": [
        "#COVID-19-geographic-disbtribution-worldwide.xslx"
      ]
    },
    {
      "cell_type": "code",
      "metadata": {
        "id": "n6qL83Q4k5z9",
        "colab": {
          "base_uri": "https://localhost:8080/",
          "height": 326
        },
        "outputId": "0660fe07-e99c-46eb-beb5-b12ead94a902"
      },
      "source": [
        "import seaborn as sns\n",
        "import pandas as pd\n",
        "\n",
        "data = pd.read_excel('COVID-19-geographic-disbtribution-worldwide.xlsx')\n",
        "\n",
        "data.head()"
      ],
      "execution_count": null,
      "outputs": [
        {
          "output_type": "execute_result",
          "data": {
            "text/html": [
              "<div>\n",
              "<style scoped>\n",
              "    .dataframe tbody tr th:only-of-type {\n",
              "        vertical-align: middle;\n",
              "    }\n",
              "\n",
              "    .dataframe tbody tr th {\n",
              "        vertical-align: top;\n",
              "    }\n",
              "\n",
              "    .dataframe thead th {\n",
              "        text-align: right;\n",
              "    }\n",
              "</style>\n",
              "<table border=\"1\" class=\"dataframe\">\n",
              "  <thead>\n",
              "    <tr style=\"text-align: right;\">\n",
              "      <th></th>\n",
              "      <th>dateRep</th>\n",
              "      <th>day</th>\n",
              "      <th>month</th>\n",
              "      <th>year</th>\n",
              "      <th>cases</th>\n",
              "      <th>deaths</th>\n",
              "      <th>countriesAndTerritories</th>\n",
              "      <th>geoId</th>\n",
              "      <th>countryterritoryCode</th>\n",
              "      <th>popData2019</th>\n",
              "      <th>continentExp</th>\n",
              "      <th>Cumulative_number_for_14_days_of_COVID-19_cases_per_100000</th>\n",
              "    </tr>\n",
              "  </thead>\n",
              "  <tbody>\n",
              "    <tr>\n",
              "      <th>0</th>\n",
              "      <td>2020-08-11</td>\n",
              "      <td>11</td>\n",
              "      <td>8</td>\n",
              "      <td>2020</td>\n",
              "      <td>0</td>\n",
              "      <td>0</td>\n",
              "      <td>Afghanistan</td>\n",
              "      <td>AF</td>\n",
              "      <td>AFG</td>\n",
              "      <td>38041757.0</td>\n",
              "      <td>Asia</td>\n",
              "      <td>1.803282</td>\n",
              "    </tr>\n",
              "    <tr>\n",
              "      <th>1</th>\n",
              "      <td>2020-08-10</td>\n",
              "      <td>10</td>\n",
              "      <td>8</td>\n",
              "      <td>2020</td>\n",
              "      <td>0</td>\n",
              "      <td>0</td>\n",
              "      <td>Afghanistan</td>\n",
              "      <td>AF</td>\n",
              "      <td>AFG</td>\n",
              "      <td>38041757.0</td>\n",
              "      <td>Asia</td>\n",
              "      <td>2.079294</td>\n",
              "    </tr>\n",
              "    <tr>\n",
              "      <th>2</th>\n",
              "      <td>2020-08-09</td>\n",
              "      <td>9</td>\n",
              "      <td>8</td>\n",
              "      <td>2020</td>\n",
              "      <td>39</td>\n",
              "      <td>5</td>\n",
              "      <td>Afghanistan</td>\n",
              "      <td>AF</td>\n",
              "      <td>AFG</td>\n",
              "      <td>38041757.0</td>\n",
              "      <td>Asia</td>\n",
              "      <td>2.357935</td>\n",
              "    </tr>\n",
              "    <tr>\n",
              "      <th>3</th>\n",
              "      <td>2020-08-08</td>\n",
              "      <td>8</td>\n",
              "      <td>8</td>\n",
              "      <td>2020</td>\n",
              "      <td>78</td>\n",
              "      <td>9</td>\n",
              "      <td>Afghanistan</td>\n",
              "      <td>AF</td>\n",
              "      <td>AFG</td>\n",
              "      <td>38041757.0</td>\n",
              "      <td>Asia</td>\n",
              "      <td>2.573488</td>\n",
              "    </tr>\n",
              "    <tr>\n",
              "      <th>4</th>\n",
              "      <td>2020-08-07</td>\n",
              "      <td>7</td>\n",
              "      <td>8</td>\n",
              "      <td>2020</td>\n",
              "      <td>41</td>\n",
              "      <td>0</td>\n",
              "      <td>Afghanistan</td>\n",
              "      <td>AF</td>\n",
              "      <td>AFG</td>\n",
              "      <td>38041757.0</td>\n",
              "      <td>Asia</td>\n",
              "      <td>2.652349</td>\n",
              "    </tr>\n",
              "  </tbody>\n",
              "</table>\n",
              "</div>"
            ],
            "text/plain": [
              "     dateRep  ...  Cumulative_number_for_14_days_of_COVID-19_cases_per_100000\n",
              "0 2020-08-11  ...                                           1.803282         \n",
              "1 2020-08-10  ...                                           2.079294         \n",
              "2 2020-08-09  ...                                           2.357935         \n",
              "3 2020-08-08  ...                                           2.573488         \n",
              "4 2020-08-07  ...                                           2.652349         \n",
              "\n",
              "[5 rows x 12 columns]"
            ]
          },
          "metadata": {
            "tags": []
          },
          "execution_count": 27
        }
      ]
    },
    {
      "cell_type": "code",
      "metadata": {
        "id": "MKOV8FPcl5in",
        "colab": {
          "base_uri": "https://localhost:8080/",
          "height": 221
        },
        "outputId": "f911af2d-b6da-404e-c439-0552a4a454d4"
      },
      "source": [
        "data = data[(data['cases'] != 0)]['cases']"
      ],
      "execution_count": null,
      "outputs": [
        {
          "output_type": "execute_result",
          "data": {
            "text/plain": [
              "2        39\n",
              "3        78\n",
              "4        41\n",
              "5        67\n",
              "6        82\n",
              "         ..\n",
              "35558     2\n",
              "35559     2\n",
              "35561     1\n",
              "35565     1\n",
              "35566     1\n",
              "Name: cases, Length: 22648, dtype: int64"
            ]
          },
          "metadata": {
            "tags": []
          },
          "execution_count": 40
        }
      ]
    },
    {
      "cell_type": "code",
      "metadata": {
        "id": "-DItpg-YnsIz",
        "colab": {
          "base_uri": "https://localhost:8080/",
          "height": 221
        },
        "outputId": "afb22e2e-2c00-4b72-cb9a-fbec66e4e043"
      },
      "source": [
        "data"
      ],
      "execution_count": null,
      "outputs": [
        {
          "output_type": "execute_result",
          "data": {
            "text/plain": [
              "2        39\n",
              "3        78\n",
              "4        41\n",
              "5        67\n",
              "6        82\n",
              "         ..\n",
              "35558     2\n",
              "35559     2\n",
              "35561     1\n",
              "35565     1\n",
              "35566     1\n",
              "Name: cases, Length: 22648, dtype: int64"
            ]
          },
          "metadata": {
            "tags": []
          },
          "execution_count": 41
        }
      ]
    },
    {
      "cell_type": "code",
      "metadata": {
        "id": "5U-wtadZnuoT"
      },
      "source": [
        "data = pd.DataFrame(data = data)"
      ],
      "execution_count": null,
      "outputs": []
    },
    {
      "cell_type": "code",
      "metadata": {
        "id": "h1ZDfAfIn8g0",
        "colab": {
          "base_uri": "https://localhost:8080/",
          "height": 204
        },
        "outputId": "95fd0e91-ada4-454a-db1b-bd5438d369c3"
      },
      "source": [
        "data.head()"
      ],
      "execution_count": null,
      "outputs": [
        {
          "output_type": "execute_result",
          "data": {
            "text/html": [
              "<div>\n",
              "<style scoped>\n",
              "    .dataframe tbody tr th:only-of-type {\n",
              "        vertical-align: middle;\n",
              "    }\n",
              "\n",
              "    .dataframe tbody tr th {\n",
              "        vertical-align: top;\n",
              "    }\n",
              "\n",
              "    .dataframe thead th {\n",
              "        text-align: right;\n",
              "    }\n",
              "</style>\n",
              "<table border=\"1\" class=\"dataframe\">\n",
              "  <thead>\n",
              "    <tr style=\"text-align: right;\">\n",
              "      <th></th>\n",
              "      <th>cases</th>\n",
              "    </tr>\n",
              "  </thead>\n",
              "  <tbody>\n",
              "    <tr>\n",
              "      <th>2</th>\n",
              "      <td>39</td>\n",
              "    </tr>\n",
              "    <tr>\n",
              "      <th>3</th>\n",
              "      <td>78</td>\n",
              "    </tr>\n",
              "    <tr>\n",
              "      <th>4</th>\n",
              "      <td>41</td>\n",
              "    </tr>\n",
              "    <tr>\n",
              "      <th>5</th>\n",
              "      <td>67</td>\n",
              "    </tr>\n",
              "    <tr>\n",
              "      <th>6</th>\n",
              "      <td>82</td>\n",
              "    </tr>\n",
              "  </tbody>\n",
              "</table>\n",
              "</div>"
            ],
            "text/plain": [
              "   cases\n",
              "2     39\n",
              "3     78\n",
              "4     41\n",
              "5     67\n",
              "6     82"
            ]
          },
          "metadata": {
            "tags": []
          },
          "execution_count": 52
        }
      ]
    },
    {
      "cell_type": "code",
      "metadata": {
        "id": "Cuav5qHHo1u6"
      },
      "source": [
        "tab = data['cases'].tolist()"
      ],
      "execution_count": null,
      "outputs": []
    },
    {
      "cell_type": "code",
      "metadata": {
        "id": "buAgm9SeqSxg"
      },
      "source": [
        "numbers = []\n",
        "\n",
        "for i in tab:\n",
        "    txt = str(i)\n",
        "    numbers.append(txt[0])\n",
        "\n",
        "numbersInt = []\n",
        "\n",
        "# for i in numbers:\n",
        "#   i = int(i)\n",
        "\n",
        "\n",
        "# ones = []\n",
        "# twos = []\n",
        "# threes = []\n",
        "# fours = []\n",
        "# fives = []\n",
        "# sixs = []\n",
        "# sevens = []\n",
        "# eights = []\n",
        "# nines = []\n",
        "\n",
        "\n",
        "\n",
        "# numbersInt = []\n",
        "\n",
        "# for i in numbers:\n",
        "#     numbersInt.append(int(i))\n",
        "\n",
        "# for i in numbersInt:\n",
        "#     if i == 1:\n",
        "#         ones.append(i)\n",
        "#     elif i == 2:\n",
        "#         twos.append(i)\n",
        "#     elif i == 3:\n",
        "#         threes.append(i)\n",
        "#     elif i == 4:\n",
        "#         fours.append(i)\n",
        "#     elif i == 5:\n",
        "#         fives.append(i)\n",
        "#     elif i == 6:\n",
        "#         sixs.append(i)\n",
        "#     elif i == 7:\n",
        "#         sevens.append(i)\n",
        "#     elif i == 8:\n",
        "#         eights.append(i)\n",
        "#     elif i == 9:\n",
        "#         nines.append(i)\n",
        "\n",
        "# print('1:',100*len(ones)/len(numbersInt),'\\n')\n",
        "# print('2:',100*len(twos)/len(numbersInt),'\\n')\n",
        "# print('3:',100*len(threes)/len(numbersInt),'\\n')\n",
        "# print('4:',100*len(fours)/len(numbersInt),'\\n')\n",
        "# print('5:',100*len(fives)/len(numbersInt),'\\n')\n",
        "# print('6:',100*len(sixs)/len(numbersInt),'\\n')\n",
        "# print('7:',100*len(sevens)/len(numbersInt),'\\n')\n",
        "# print('8:',100*len(eights)/len(numbersInt),'\\n')\n",
        "# print('9:',100*len(nines)/len(numbersInt),'\\n')"
      ],
      "execution_count": null,
      "outputs": []
    },
    {
      "cell_type": "code",
      "metadata": {
        "id": "GHE8b32FrMSd"
      },
      "source": [
        "numbers"
      ],
      "execution_count": null,
      "outputs": []
    },
    {
      "cell_type": "code",
      "metadata": {
        "id": "nRd-42v4rPsD",
        "colab": {
          "base_uri": "https://localhost:8080/",
          "height": 296
        },
        "outputId": "eab74291-d02b-4fbf-cac1-91c705fd14f6"
      },
      "source": [
        "numbers = pd.DataFrame(numbers)\n",
        "numbers.columns = ['values']\n",
        "sns.countplot(x='values', data = numbers, palette = 'BuGn_r', )"
      ],
      "execution_count": null,
      "outputs": [
        {
          "output_type": "execute_result",
          "data": {
            "text/plain": [
              "<matplotlib.axes._subplots.AxesSubplot at 0x7fb3f2905b38>"
            ]
          },
          "metadata": {
            "tags": []
          },
          "execution_count": 73
        },
        {
          "output_type": "display_data",
          "data": {
            "image/png": "[encoded data removed]",
            "text/plain": [
              "<Figure size 432x288 with 1 Axes>"
            ]
          },
          "metadata": {
            "tags": [],
            "needs_background": "light"
          }
        }
      ]
    },
    {
      "cell_type": "code",
      "metadata": {
        "id": "x3P04jzgsNDt",
        "colab": {
          "base_uri": "https://localhost:8080/",
          "height": 232
        },
        "outputId": "55dfe0a6-fd84-4a5f-b9e7-bd2631f7b244"
      },
      "source": [
        "tab = numbers['values'].tolist()\n",
        "tab.remove('-')\n",
        "\n",
        "num = []\n",
        "\n",
        "for i in tab:\n",
        "  if i == '1' or i == '2' or i == '3' or i == '4' or i == '5' or i == '6' or i == '7' or i == '8' or i == '9':\n",
        "    num.append(i)\n",
        "\n",
        "numint = []\n",
        "\n",
        "for i in num:\n",
        "  numint.append(int(i))\n",
        "\n",
        "ones = []\n",
        "twos = []\n",
        "threes = []\n",
        "fours = []\n",
        "fives = []\n",
        "sixs = []\n",
        "sevens = []\n",
        "eights = []\n",
        "nines = []\n",
        "\n",
        "for i in numint:\n",
        "    if i == 1:\n",
        "        ones.append(i)\n",
        "    elif i == 2:\n",
        "        twos.append(i)\n",
        "    elif i == 3:\n",
        "        threes.append(i)\n",
        "    elif i == 4:\n",
        "        fours.append(i)\n",
        "    elif i == 5:\n",
        "        fives.append(i)\n",
        "    elif i == 6:\n",
        "        sixs.append(i)\n",
        "    elif i == 7:\n",
        "        sevens.append(i)\n",
        "    elif i == 8:\n",
        "        eights.append(i)\n",
        "    elif i == 9:\n",
        "        nines.append(i)\n",
        "\n",
        "print('1:',100*len(ones)/len(numint),'%\\n')\n",
        "print('2:',100*len(twos)/len(numint),'%\\n')\n",
        "print('3:',100*len(threes)/len(numint),'%\\n')\n",
        "print('4:',100*len(fours)/len(numint),'%\\n')\n",
        "print('5:',100*len(fives)/len(numint),'%\\n')\n",
        "print('6:',100*len(sixs)/len(numint),'%\\n')\n",
        "print('7:',100*len(sevens)/len(numint),'%\\n')\n",
        "print('8:',100*len(eights)/len(numint),'%\\n')\n",
        "print('9:',100*len(nines)/len(numint),'%\\n')\n",
        "\n",
        "numintdf = pd.DataFrame(numint)\n",
        "numintdf.columns = ['values']\n",
        "sns.countplot(x = 'values', data = numintdf, palette = 'BuGn_r')\n",
        "\n",
        "len(tab)"
      ],
      "execution_count": null,
      "outputs": [
        {
          "output_type": "error",
          "ename": "NameError",
          "evalue": "ignored",
          "traceback": [
            "\u001b[0;31m---------------------------------------------------------------------------\u001b[0m",
            "\u001b[0;31mNameError\u001b[0m                                 Traceback (most recent call last)",
            "\u001b[0;32m<ipython-input-1-4367b21b8c4a>\u001b[0m in \u001b[0;36m<module>\u001b[0;34m()\u001b[0m\n\u001b[0;32m----> 1\u001b[0;31m \u001b[0mtab\u001b[0m \u001b[0;34m=\u001b[0m \u001b[0mnumbers\u001b[0m\u001b[0;34m[\u001b[0m\u001b[0;34m'values'\u001b[0m\u001b[0;34m]\u001b[0m\u001b[0;34m.\u001b[0m\u001b[0mtolist\u001b[0m\u001b[0;34m(\u001b[0m\u001b[0;34m)\u001b[0m\u001b[0;34m\u001b[0m\u001b[0;34m\u001b[0m\u001b[0m\n\u001b[0m\u001b[1;32m      2\u001b[0m \u001b[0mtab\u001b[0m\u001b[0;34m.\u001b[0m\u001b[0mremove\u001b[0m\u001b[0;34m(\u001b[0m\u001b[0;34m'-'\u001b[0m\u001b[0;34m)\u001b[0m\u001b[0;34m\u001b[0m\u001b[0;34m\u001b[0m\u001b[0m\n\u001b[1;32m      3\u001b[0m \u001b[0;34m\u001b[0m\u001b[0m\n\u001b[1;32m      4\u001b[0m \u001b[0mnum\u001b[0m \u001b[0;34m=\u001b[0m \u001b[0;34m[\u001b[0m\u001b[0;34m]\u001b[0m\u001b[0;34m\u001b[0m\u001b[0;34m\u001b[0m\u001b[0m\n\u001b[1;32m      5\u001b[0m \u001b[0;34m\u001b[0m\u001b[0m\n",
            "\u001b[0;31mNameError\u001b[0m: name 'numbers' is not defined"
          ]
        }
      ]
    },
    {
      "cell_type": "markdown",
      "metadata": {
        "id": "rgb6a3cR4d29"
      },
      "source": [
        "#duda.xlsx"
      ]
    },
    {
      "cell_type": "code",
      "metadata": {
        "id": "zpkqGtyr4di-"
      },
      "source": [
        "duda = pd.read_excel('duda.xlsx')\n",
        "\n",
        "duda.columns = ['votes']\n",
        "\n",
        "dudalist = duda['votes'].tolist()\n",
        "\n",
        "numbersduda = []\n",
        "\n",
        "for i in dudalist:\n",
        "    txt = str(i)\n",
        "    numbersduda.append(txt[0])\n",
        "\n",
        "numbersduda"
      ],
      "execution_count": null,
      "outputs": []
    },
    {
      "cell_type": "code",
      "metadata": {
        "id": "ozWVUvaa693E"
      },
      "source": [
        "numduda = []\n",
        "\n",
        "for i in numbersduda:\n",
        "  if i == '1' or i == '2' or i == '3' or i == '4' or i == '5' or i == '6' or i == '7' or i == '8' or i == '9':\n",
        "    numduda.append(i)\n",
        "\n",
        "numintduda = []\n",
        "\n",
        "for i in numduda:\n",
        "  numintduda.append(int(i))\n",
        "\n",
        "numintduda"
      ],
      "execution_count": null,
      "outputs": []
    },
    {
      "cell_type": "code",
      "metadata": {
        "id": "9TDnakhc7Zv9",
        "colab": {
          "base_uri": "https://localhost:8080/",
          "height": 602
        },
        "outputId": "f7ca1d2d-81c3-40d1-e892-fb2ad8d97bfa"
      },
      "source": [
        "ones = []\n",
        "twos = []\n",
        "threes = []\n",
        "fours = []\n",
        "fives = []\n",
        "sixs = []\n",
        "sevens = []\n",
        "eights = []\n",
        "nines = []\n",
        "\n",
        "for i in numintduda:\n",
        "    if i == 1:\n",
        "        ones.append(i)\n",
        "    elif i == 2:\n",
        "        twos.append(i)\n",
        "    elif i == 3:\n",
        "        threes.append(i)\n",
        "    elif i == 4:\n",
        "        fours.append(i)\n",
        "    elif i == 5:\n",
        "        fives.append(i)\n",
        "    elif i == 6:\n",
        "        sixs.append(i)\n",
        "    elif i == 7:\n",
        "        sevens.append(i)\n",
        "    elif i == 8:\n",
        "        eights.append(i)\n",
        "    elif i == 9:\n",
        "        nines.append(i)\n",
        "\n",
        "print('1:',100*len(ones)/len(numintduda),'%\\n')\n",
        "print('2:',100*len(twos)/len(numintduda),'%\\n')\n",
        "print('3:',100*len(threes)/len(numintduda),'%\\n')\n",
        "print('4:',100*len(fours)/len(numintduda),'%\\n')\n",
        "print('5:',100*len(fives)/len(numintduda),'%\\n')\n",
        "print('6:',100*len(sixs)/len(numintduda),'%\\n')\n",
        "print('7:',100*len(sevens)/len(numintduda),'%\\n')\n",
        "print('8:',100*len(eights)/len(numintduda),'%\\n')\n",
        "print('9:',100*len(nines)/len(numintduda),'%\\n')\n",
        "\n",
        "numintdudadf = pd.DataFrame(numintduda)\n",
        "numintdudadf.columns = ['values']\n",
        "sns.countplot(x = 'values', data = numintdudadf, palette = 'BuGn_r')\n",
        "\n",
        "len(numintduda)"
      ],
      "execution_count": null,
      "outputs": [
        {
          "output_type": "stream",
          "text": [
            "1: 36.678507992895206 %\n",
            "\n",
            "2: 17.14031971580817 %\n",
            "\n",
            "3: 9.680284191829484 %\n",
            "\n",
            "4: 8.6145648312611 %\n",
            "\n",
            "5: 7.015985790408526 %\n",
            "\n",
            "6: 6.927175843694494 %\n",
            "\n",
            "7: 5.683836589698046 %\n",
            "\n",
            "8: 4.440497335701599 %\n",
            "\n",
            "9: 3.818827708703375 %\n",
            "\n"
          ],
          "name": "stdout"
        },
        {
          "output_type": "execute_result",
          "data": {
            "text/plain": [
              "1126"
            ]
          },
          "metadata": {
            "tags": []
          },
          "execution_count": 125
        },
        {
          "output_type": "display_data",
          "data": {
            "image/png": "[encoded data removed]",
            "text/plain": [
              "<Figure size 432x288 with 1 Axes>"
            ]
          },
          "metadata": {
            "tags": [],
            "needs_background": "light"
          }
        }
      ]
    },
    {
      "cell_type": "markdown",
      "metadata": {
        "id": "d09z4Hm-958_"
      },
      "source": [
        "#trzaskowski"
      ]
    },
    {
      "cell_type": "code",
      "metadata": {
        "id": "vl-jQQDN9yns"
      },
      "source": [
        "trzaskowski = pd.read_excel('trzaskowski.xlsx')\n",
        "\n",
        "trzaskowski.columns = ['votes']\n",
        "\n",
        "trzaskowskilist = trzaskowski['votes'].tolist()\n",
        "\n",
        "numberstrzaskowski = []\n",
        "\n",
        "for i in trzaskowskilist:\n",
        "    txt = str(i)\n",
        "    numberstrzaskowski.append(txt[0])\n",
        "\n",
        "numberstrzaskowski"
      ],
      "execution_count": null,
      "outputs": []
    },
    {
      "cell_type": "code",
      "metadata": {
        "id": "DJwCElvR-Hxq"
      },
      "source": [
        "numtrzaskowski = []\n",
        "\n",
        "for i in numberstrzaskowski:\n",
        "  if i == '1' or i == '2' or i == '3' or i == '4' or i == '5' or i == '6' or i == '7' or i == '8' or i == '9':\n",
        "    numtrzaskowski.append(i)\n",
        "\n",
        "numinttrzaskowski = []\n",
        "\n",
        "for i in numtrzaskowski:\n",
        "  numinttrzaskowski.append(int(i))\n",
        "\n",
        "numinttrzaskowski"
      ],
      "execution_count": null,
      "outputs": []
    },
    {
      "cell_type": "code",
      "metadata": {
        "id": "C4HSUbur-X9Q",
        "colab": {
          "base_uri": "https://localhost:8080/",
          "height": 602
        },
        "outputId": "13e8815a-9fb8-4f99-b9dc-be3affc5a693"
      },
      "source": [
        "ones = []\n",
        "twos = []\n",
        "threes = []\n",
        "fours = []\n",
        "fives = []\n",
        "sixs = []\n",
        "sevens = []\n",
        "eights = []\n",
        "nines = []\n",
        "\n",
        "for i in numinttrzaskowski:\n",
        "    if i == 1:\n",
        "        ones.append(i)\n",
        "    elif i == 2:\n",
        "        twos.append(i)\n",
        "    elif i == 3:\n",
        "        threes.append(i)\n",
        "    elif i == 4:\n",
        "        fours.append(i)\n",
        "    elif i == 5:\n",
        "        fives.append(i)\n",
        "    elif i == 6:\n",
        "        sixs.append(i)\n",
        "    elif i == 7:\n",
        "        sevens.append(i)\n",
        "    elif i == 8:\n",
        "        eights.append(i)\n",
        "    elif i == 9:\n",
        "        nines.append(i)\n",
        "\n",
        "print('1:',100*len(ones)/len(numinttrzaskowski),'%\\n')\n",
        "print('2:',100*len(twos)/len(numinttrzaskowski),'%\\n')\n",
        "print('3:',100*len(threes)/len(numinttrzaskowski),'%\\n')\n",
        "print('4:',100*len(fours)/len(numinttrzaskowski),'%\\n')\n",
        "print('5:',100*len(fives)/len(numinttrzaskowski),'%\\n')\n",
        "print('6:',100*len(sixs)/len(numinttrzaskowski),'%\\n')\n",
        "print('7:',100*len(sevens)/len(numinttrzaskowski),'%\\n')\n",
        "print('8:',100*len(eights)/len(numinttrzaskowski),'%\\n')\n",
        "print('9:',100*len(nines)/len(numinttrzaskowski),'%\\n')\n",
        "\n",
        "numinttrzaskowskidf = pd.DataFrame(numinttrzaskowski)\n",
        "numinttrzaskowskidf.columns = ['values']\n",
        "sns.countplot(x = 'values', data = numinttrzaskowskidf, palette = 'BuGn_r')\n",
        "\n",
        "len(numinttrzaskowski)"
      ],
      "execution_count": null,
      "outputs": [
        {
          "output_type": "stream",
          "text": [
            "1: 25.384501626737652 %\n",
            "\n",
            "2: 20.500591540964212 %\n",
            "\n",
            "3: 15.979000295770483 %\n",
            "\n",
            "4: 11.653356994971901 %\n",
            "\n",
            "5: 8.048654244306418 %\n",
            "\n",
            "6: 6.237060041407868 %\n",
            "\n",
            "7: 4.72863058266785 %\n",
            "\n",
            "8: 4.077935522034901 %\n",
            "\n",
            "9: 3.390269151138716 %\n",
            "\n"
          ],
          "name": "stdout"
        },
        {
          "output_type": "execute_result",
          "data": {
            "text/plain": [
              "27048"
            ]
          },
          "metadata": {
            "tags": []
          },
          "execution_count": 133
        },
        {
          "output_type": "display_data",
          "data": {
            "image/png": "[encoded data removed]",
            "text/plain": [
              "<Figure size 432x288 with 1 Axes>"
            ]
          },
          "metadata": {
            "tags": [],
            "needs_background": "light"
          }
        }
      ]
    },
    {
      "cell_type": "markdown",
      "metadata": {
        "id": "6ev4gRi5Fmap"
      },
      "source": [
        "#zoltek"
      ]
    },
    {
      "cell_type": "code",
      "metadata": {
        "id": "Ov5M6lqpFnmR"
      },
      "source": [
        "zoltek= pd.read_excel('zoltek.xlsx')\n",
        "\n",
        "zoltek.columns = ['votes']\n",
        "\n",
        "zolteklist = zoltek['votes'].tolist()\n",
        "\n",
        "numberszoltek = []\n",
        "\n",
        "for i in zolteklist:\n",
        "    txt = str(i)\n",
        "    numberszoltek.append(txt[0])\n",
        "\n",
        "numberszoltek"
      ],
      "execution_count": null,
      "outputs": []
    },
    {
      "cell_type": "code",
      "metadata": {
        "id": "SuQnxBNpF9AW"
      },
      "source": [
        "numzoltek = []\n",
        "\n",
        "for i in numberszoltek:\n",
        "  if i == '1' or i == '2' or i == '3' or i == '4' or i == '5' or i == '6' or i == '7' or i == '8' or i == '9':\n",
        "    numzoltek.append(i)\n",
        "\n",
        "numintzoltek = []\n",
        "\n",
        "for i in numzoltek:\n",
        "  numintzoltek.append(int(i))\n",
        "\n",
        "numintzoltek"
      ],
      "execution_count": null,
      "outputs": []
    },
    {
      "cell_type": "code",
      "metadata": {
        "id": "g18qlJa2GKZC",
        "colab": {
          "base_uri": "https://localhost:8080/",
          "height": 602
        },
        "outputId": "2357de9c-ee38-4a2c-a632-b4936ea357f2"
      },
      "source": [
        "ones = []\n",
        "twos = []\n",
        "threes = []\n",
        "fours = []\n",
        "fives = []\n",
        "sixs = []\n",
        "sevens = []\n",
        "eights = []\n",
        "nines = []\n",
        "\n",
        "for i in numintzoltek:\n",
        "    if i == 1:\n",
        "        ones.append(i)\n",
        "    elif i == 2:\n",
        "        twos.append(i)\n",
        "    elif i == 3:\n",
        "        threes.append(i)\n",
        "    elif i == 4:\n",
        "        fours.append(i)\n",
        "    elif i == 5:\n",
        "        fives.append(i)\n",
        "    elif i == 6:\n",
        "        sixs.append(i)\n",
        "    elif i == 7:\n",
        "        sevens.append(i)\n",
        "    elif i == 8:\n",
        "        eights.append(i)\n",
        "    elif i == 9:\n",
        "        nines.append(i)\n",
        "\n",
        "print('1:',100*len(ones)/len(numintzoltek),'%\\n')\n",
        "print('2:',100*len(twos)/len(numintzoltek),'%\\n')\n",
        "print('3:',100*len(threes)/len(numintzoltek),'%\\n')\n",
        "print('4:',100*len(fours)/len(numintzoltek),'%\\n')\n",
        "print('5:',100*len(fives)/len(numintzoltek),'%\\n')\n",
        "print('6:',100*len(sixs)/len(numintzoltek),'%\\n')\n",
        "print('7:',100*len(sevens)/len(numintzoltek),'%\\n')\n",
        "print('8:',100*len(eights)/len(numintzoltek),'%\\n')\n",
        "print('9:',100*len(nines)/len(numintzoltek),'%\\n')\n",
        "\n",
        "numintzoltekdf = pd.DataFrame(numintzoltek)\n",
        "numintzoltekdf.columns = ['values']\n",
        "sns.countplot(x = 'values', data = numintzoltekdf, palette = 'BuGn_r')\n",
        "\n",
        "len(numintzoltek)"
      ],
      "execution_count": null,
      "outputs": [
        {
          "output_type": "stream",
          "text": [
            "1: 37.72609819121447 %\n",
            "\n",
            "2: 25.12507559513992 %\n",
            "\n",
            "3: 15.844741327175766 %\n",
            "\n",
            "4: 9.857606245533015 %\n",
            "\n",
            "5: 5.354884820495904 %\n",
            "\n",
            "6: 2.963329484853483 %\n",
            "\n",
            "7: 1.7703007312111716 %\n",
            "\n",
            "8: 0.8961460223211831 %\n",
            "\n",
            "9: 0.4618175820550882 %\n",
            "\n"
          ],
          "name": "stdout"
        },
        {
          "output_type": "execute_result",
          "data": {
            "text/plain": [
              "18189"
            ]
          },
          "metadata": {
            "tags": []
          },
          "execution_count": 144
        },
        {
          "output_type": "display_data",
          "data": {
            "image/png": "[encoded data removed]",
            "text/plain": [
              "<Figure size 432x288 with 1 Axes>"
            ]
          },
          "metadata": {
            "tags": [],
            "needs_background": "light"
          }
        }
      ]
    },
    {
      "cell_type": "code",
      "metadata": {
        "id": "xRixO_zFLffD",
        "colab": {
          "base_uri": "https://localhost:8080/",
          "height": 51
        },
        "outputId": "5c54a4b9-57e1-453a-9d19-f0ba94dc84bc"
      },
      "source": [
        "import scipy.stats as stats\n",
        "\n",
        "# scaled = np.\n",
        "\n",
        "import math\n",
        "\n",
        "\n",
        "cutoffzoltek = 1.36/math.sqrt(len(numintzoltek))\n",
        "\n",
        "cutoffduda = 1.36/math.sqrt(len(numintduda))\n",
        "\n",
        "cutofftrzaskowski = 1.36/math.sqrt(len(numinttrzaskowski))\n",
        "\n",
        "print('zoltek')\n",
        "\n",
        "print(stats.kstest(numintzoltek, 'norm'))\n",
        "\n",
        "print(cutoffzoltek)"
      ],
      "execution_count": null,
      "outputs": [
        {
          "output_type": "stream",
          "text": [
            "KstestResult(statistic=0.8413447460685429, pvalue=0.0)\n",
            "0.010084038541469595\n"
          ],
          "name": "stdout"
        }
      ]
    }
  ]
}